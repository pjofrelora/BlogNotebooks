{
 "cells": [
  {
   "cell_type": "markdown",
   "metadata": {},
   "source": [
    "Let's assume that we're interested in seeing if a judge has changed his scoring habits after he was caught giving Mexico and Canada significantly lower scores than USA in international diving competitions. We know his previous voting habits, since they led to the investigation and the subsequent requirement for him to retake a certification course and sign documentation that he would not bias his scores.\n",
    "\n",
    "First, import the necessary libraries."
   ]
  },
  {
   "cell_type": "code",
   "execution_count": 1,
   "metadata": {},
   "outputs": [],
   "source": [
    "# To create the data\n",
    "import numpy as np\n",
    "import pandas as pd\n",
    "# To run statistical analyses\n",
    "import pymc3 as pm\n",
    "import statsmodels.api as sm\n",
    "from statsmodels.formula.api import ols\n",
    "# To plot the data\n",
    "import matplotlib.pyplot as plt\n",
    "import scipy.stats as stats"
   ]
  },
  {
   "cell_type": "markdown",
   "metadata": {},
   "source": [
    "Now let's create our fake data. This particular judge has *not* changed his ways, unfortunately. He thinks he can get away with cheating a little bit longer before he has to change his habits to not get caught again. He reckons that after only four competitions there's not enough data to show that he is still biased."
   ]
  },
  {
   "cell_type": "code",
   "execution_count": 2,
   "metadata": {
    "scrolled": false
   },
   "outputs": [
    {
     "data": {
      "text/html": [
       "<div>\n",
       "<style scoped>\n",
       "    .dataframe tbody tr th:only-of-type {\n",
       "        vertical-align: middle;\n",
       "    }\n",
       "\n",
       "    .dataframe tbody tr th {\n",
       "        vertical-align: top;\n",
       "    }\n",
       "\n",
       "    .dataframe thead th {\n",
       "        text-align: right;\n",
       "    }\n",
       "</style>\n",
       "<table border=\"1\" class=\"dataframe\">\n",
       "  <thead>\n",
       "    <tr style=\"text-align: right;\">\n",
       "      <th></th>\n",
       "      <th>Score</th>\n",
       "      <th>Country</th>\n",
       "    </tr>\n",
       "  </thead>\n",
       "  <tbody>\n",
       "    <tr>\n",
       "      <th>0</th>\n",
       "      <td>83.086256</td>\n",
       "      <td>USA</td>\n",
       "    </tr>\n",
       "    <tr>\n",
       "      <th>1</th>\n",
       "      <td>78.837663</td>\n",
       "      <td>USA</td>\n",
       "    </tr>\n",
       "    <tr>\n",
       "      <th>2</th>\n",
       "      <td>78.996474</td>\n",
       "      <td>USA</td>\n",
       "    </tr>\n",
       "    <tr>\n",
       "      <th>3</th>\n",
       "      <td>77.961360</td>\n",
       "      <td>USA</td>\n",
       "    </tr>\n",
       "    <tr>\n",
       "      <th>4</th>\n",
       "      <td>79.644274</td>\n",
       "      <td>Canada</td>\n",
       "    </tr>\n",
       "    <tr>\n",
       "      <th>5</th>\n",
       "      <td>73.627076</td>\n",
       "      <td>Canada</td>\n",
       "    </tr>\n",
       "    <tr>\n",
       "      <th>6</th>\n",
       "      <td>81.315142</td>\n",
       "      <td>Canada</td>\n",
       "    </tr>\n",
       "    <tr>\n",
       "      <th>7</th>\n",
       "      <td>76.553707</td>\n",
       "      <td>Canada</td>\n",
       "    </tr>\n",
       "    <tr>\n",
       "      <th>8</th>\n",
       "      <td>76.606174</td>\n",
       "      <td>Mexico</td>\n",
       "    </tr>\n",
       "    <tr>\n",
       "      <th>9</th>\n",
       "      <td>75.526196</td>\n",
       "      <td>Mexico</td>\n",
       "    </tr>\n",
       "    <tr>\n",
       "      <th>10</th>\n",
       "      <td>78.778005</td>\n",
       "      <td>Mexico</td>\n",
       "    </tr>\n",
       "    <tr>\n",
       "      <th>11</th>\n",
       "      <td>72.085733</td>\n",
       "      <td>Mexico</td>\n",
       "    </tr>\n",
       "  </tbody>\n",
       "</table>\n",
       "</div>"
      ],
      "text/plain": [
       "        Score Country\n",
       "0   83.086256     USA\n",
       "1   78.837663     USA\n",
       "2   78.996474     USA\n",
       "3   77.961360     USA\n",
       "4   79.644274  Canada\n",
       "5   73.627076  Canada\n",
       "6   81.315142  Canada\n",
       "7   76.553707  Canada\n",
       "8   76.606174  Mexico\n",
       "9   75.526196  Mexico\n",
       "10  78.778005  Mexico\n",
       "11  72.085733  Mexico"
      ]
     },
     "execution_count": 2,
     "metadata": {},
     "output_type": "execute_result"
    }
   ],
   "source": [
    "np.random.seed(1) # For Replicability\n",
    "USA = np.array([np.random.normal(loc = 80, scale = 1.9, size = 4), np.ones(4)*1])\n",
    "Canada = np.array([np.random.normal(loc = 78, scale = 1.9, size = 4), np.ones(4)*2])\n",
    "Mexico = np.array([np.random.normal(loc = 76, scale = 1.9, size = 4), np.ones(4)*3])\n",
    "data = np.concatenate((USA, Canada, Mexico), axis = 1)\n",
    "df = pd.DataFrame(data.T, columns = ['Score','Country'])\n",
    "df.Country = df.Country.astype('category')\n",
    "df.Country.replace(to_replace = {1:'USA',2:'Canada',3:'Mexico'}, inplace = True)\n",
    "df"
   ]
  },
  {
   "cell_type": "markdown",
   "metadata": {},
   "source": [
    "Run frequentist ANOVA"
   ]
  },
  {
   "cell_type": "code",
   "execution_count": 3,
   "metadata": {
    "scrolled": true
   },
   "outputs": [
    {
     "data": {
      "text/html": [
       "<div>\n",
       "<style scoped>\n",
       "    .dataframe tbody tr th:only-of-type {\n",
       "        vertical-align: middle;\n",
       "    }\n",
       "\n",
       "    .dataframe tbody tr th {\n",
       "        vertical-align: top;\n",
       "    }\n",
       "\n",
       "    .dataframe thead th {\n",
       "        text-align: right;\n",
       "    }\n",
       "</style>\n",
       "<table border=\"1\" class=\"dataframe\">\n",
       "  <thead>\n",
       "    <tr style=\"text-align: right;\">\n",
       "      <th></th>\n",
       "      <th>sum_sq</th>\n",
       "      <th>df</th>\n",
       "      <th>F</th>\n",
       "      <th>PR(&gt;F)</th>\n",
       "    </tr>\n",
       "  </thead>\n",
       "  <tbody>\n",
       "    <tr>\n",
       "      <th>Country</th>\n",
       "      <td>31.550962</td>\n",
       "      <td>2.0</td>\n",
       "      <td>1.923096</td>\n",
       "      <td>0.201654</td>\n",
       "    </tr>\n",
       "    <tr>\n",
       "      <th>Residual</th>\n",
       "      <td>73.828511</td>\n",
       "      <td>9.0</td>\n",
       "      <td>NaN</td>\n",
       "      <td>NaN</td>\n",
       "    </tr>\n",
       "  </tbody>\n",
       "</table>\n",
       "</div>"
      ],
      "text/plain": [
       "             sum_sq   df         F    PR(>F)\n",
       "Country   31.550962  2.0  1.923096  0.201654\n",
       "Residual  73.828511  9.0       NaN       NaN"
      ]
     },
     "execution_count": 3,
     "metadata": {},
     "output_type": "execute_result"
    }
   ],
   "source": [
    "formula = \"Score ~ Country\"\n",
    "model = ols(formula,df).fit()\n",
    "sm.stats.anova_lm(model, typ=2)"
   ]
  },
  {
   "cell_type": "code",
   "execution_count": 4,
   "metadata": {
    "scrolled": false
   },
   "outputs": [
    {
     "name": "stderr",
     "output_type": "stream",
     "text": [
      "/anaconda3/envs/learn-env/lib/python3.6/site-packages/scipy/stats/stats.py:1394: UserWarning: kurtosistest only valid for n>=20 ... continuing anyway, n=12\n",
      "  \"anyway, n=%i\" % int(n))\n"
     ]
    },
    {
     "data": {
      "text/html": [
       "<table class=\"simpletable\">\n",
       "<caption>OLS Regression Results</caption>\n",
       "<tr>\n",
       "  <th>Dep. Variable:</th>          <td>Score</td>      <th>  R-squared:         </th> <td>   0.299</td>\n",
       "</tr>\n",
       "<tr>\n",
       "  <th>Model:</th>                   <td>OLS</td>       <th>  Adj. R-squared:    </th> <td>   0.144</td>\n",
       "</tr>\n",
       "<tr>\n",
       "  <th>Method:</th>             <td>Least Squares</td>  <th>  F-statistic:       </th> <td>   1.923</td>\n",
       "</tr>\n",
       "<tr>\n",
       "  <th>Date:</th>             <td>Wed, 06 Mar 2019</td> <th>  Prob (F-statistic):</th>  <td> 0.202</td> \n",
       "</tr>\n",
       "<tr>\n",
       "  <th>Time:</th>                 <td>04:15:04</td>     <th>  Log-Likelihood:    </th> <td> -27.928</td>\n",
       "</tr>\n",
       "<tr>\n",
       "  <th>No. Observations:</th>      <td>    12</td>      <th>  AIC:               </th> <td>   61.86</td>\n",
       "</tr>\n",
       "<tr>\n",
       "  <th>Df Residuals:</th>          <td>     9</td>      <th>  BIC:               </th> <td>   63.31</td>\n",
       "</tr>\n",
       "<tr>\n",
       "  <th>Df Model:</th>              <td>     2</td>      <th>                     </th>     <td> </td>   \n",
       "</tr>\n",
       "<tr>\n",
       "  <th>Covariance Type:</th>      <td>nonrobust</td>    <th>                     </th>     <td> </td>   \n",
       "</tr>\n",
       "</table>\n",
       "<table class=\"simpletable\">\n",
       "<tr>\n",
       "          <td></td>             <th>coef</th>     <th>std err</th>      <th>t</th>      <th>P>|t|</th>  <th>[0.025</th>    <th>0.975]</th>  \n",
       "</tr>\n",
       "<tr>\n",
       "  <th>Intercept</th>         <td>   77.7851</td> <td>    1.432</td> <td>   54.317</td> <td> 0.000</td> <td>   74.546</td> <td>   81.025</td>\n",
       "</tr>\n",
       "<tr>\n",
       "  <th>Country[T.Mexico]</th> <td>   -2.0360</td> <td>    2.025</td> <td>   -1.005</td> <td> 0.341</td> <td>   -6.617</td> <td>    2.545</td>\n",
       "</tr>\n",
       "<tr>\n",
       "  <th>Country[T.USA]</th>    <td>    1.9354</td> <td>    2.025</td> <td>    0.956</td> <td> 0.364</td> <td>   -2.646</td> <td>    6.517</td>\n",
       "</tr>\n",
       "</table>\n",
       "<table class=\"simpletable\">\n",
       "<tr>\n",
       "  <th>Omnibus:</th>       <td> 0.721</td> <th>  Durbin-Watson:     </th> <td>   2.859</td>\n",
       "</tr>\n",
       "<tr>\n",
       "  <th>Prob(Omnibus):</th> <td> 0.697</td> <th>  Jarque-Bera (JB):  </th> <td>   0.593</td>\n",
       "</tr>\n",
       "<tr>\n",
       "  <th>Skew:</th>          <td>-0.068</td> <th>  Prob(JB):          </th> <td>   0.744</td>\n",
       "</tr>\n",
       "<tr>\n",
       "  <th>Kurtosis:</th>      <td> 1.920</td> <th>  Cond. No.          </th> <td>    3.73</td>\n",
       "</tr>\n",
       "</table><br/><br/>Warnings:<br/>[1] Standard Errors assume that the covariance matrix of the errors is correctly specified."
      ],
      "text/plain": [
       "<class 'statsmodels.iolib.summary.Summary'>\n",
       "\"\"\"\n",
       "                            OLS Regression Results                            \n",
       "==============================================================================\n",
       "Dep. Variable:                  Score   R-squared:                       0.299\n",
       "Model:                            OLS   Adj. R-squared:                  0.144\n",
       "Method:                 Least Squares   F-statistic:                     1.923\n",
       "Date:                Wed, 06 Mar 2019   Prob (F-statistic):              0.202\n",
       "Time:                        04:15:04   Log-Likelihood:                -27.928\n",
       "No. Observations:                  12   AIC:                             61.86\n",
       "Df Residuals:                       9   BIC:                             63.31\n",
       "Df Model:                           2                                         \n",
       "Covariance Type:            nonrobust                                         \n",
       "=====================================================================================\n",
       "                        coef    std err          t      P>|t|      [0.025      0.975]\n",
       "-------------------------------------------------------------------------------------\n",
       "Intercept            77.7851      1.432     54.317      0.000      74.546      81.025\n",
       "Country[T.Mexico]    -2.0360      2.025     -1.005      0.341      -6.617       2.545\n",
       "Country[T.USA]        1.9354      2.025      0.956      0.364      -2.646       6.517\n",
       "==============================================================================\n",
       "Omnibus:                        0.721   Durbin-Watson:                   2.859\n",
       "Prob(Omnibus):                  0.697   Jarque-Bera (JB):                0.593\n",
       "Skew:                          -0.068   Prob(JB):                        0.744\n",
       "Kurtosis:                       1.920   Cond. No.                         3.73\n",
       "==============================================================================\n",
       "\n",
       "Warnings:\n",
       "[1] Standard Errors assume that the covariance matrix of the errors is correctly specified.\n",
       "\"\"\""
      ]
     },
     "execution_count": 4,
     "metadata": {},
     "output_type": "execute_result"
    }
   ],
   "source": [
    "model.summary()"
   ]
  },
  {
   "cell_type": "markdown",
   "metadata": {},
   "source": [
    "Run Bayesian ANOVA"
   ]
  },
  {
   "cell_type": "code",
   "execution_count": 5,
   "metadata": {
    "scrolled": false
   },
   "outputs": [],
   "source": [
    "# One Hot Encode Data\n",
    "dummies = pd.get_dummies(df.Country)\n",
    "#dummies.columns = ['USA','Canada','Mexico']\n",
    "df = df.join(dummies)"
   ]
  },
  {
   "cell_type": "code",
   "execution_count": 6,
   "metadata": {},
   "outputs": [
    {
     "name": "stderr",
     "output_type": "stream",
     "text": [
      "Auto-assigning NUTS sampler...\n",
      "Initializing NUTS using jitter+adapt_diag...\n",
      "Multiprocess sampling (2 chains in 2 jobs)\n",
      "NUTS: [Mexico, Canada, USA, sigma]\n",
      "Sampling 2 chains: 100%|██████████| 7000/7000 [00:06<00:00, 1084.56draws/s]\n",
      "/anaconda3/envs/learn-env/lib/python3.6/site-packages/mkl_fft/_numpy_fft.py:1044: FutureWarning: Using a non-tuple sequence for multidimensional indexing is deprecated; use `arr[tuple(seq)]` instead of `arr[seq]`. In the future this will be interpreted as an array index, `arr[np.array(seq)]`, which will result either in an error or a different result.\n",
      "  output = mkl_fft.rfftn_numpy(a, s, axes)\n"
     ]
    }
   ],
   "source": [
    "with pm.Model() as model: # model specifications in PyMC3 are wrapped in a with-statement\n",
    "    # Define priors\n",
    "    sigma = pm.HalfCauchy('sigma', beta=10)\n",
    "    usa = pm.Normal('USA', mu = 80, sd=1.9)\n",
    "    can = pm.Normal('Canada', mu = 78, sd=1.9)\n",
    "    mex = pm.Normal('Mexico', mu = 76, sd=1.9)\n",
    "\n",
    "    # Define likelihood\n",
    "    likelihood = pm.Normal('Score', \n",
    "                           mu = usa*df['USA'] + can*df['Canada'] + mex*df['Mexico'],\n",
    "                           sd=sigma, \n",
    "                           observed=df.Score)\n",
    "\n",
    "    # Inference!\n",
    "    trace = pm.sample(3000, cores=2) # draw 3000 posterior samples using NUTS sampling"
   ]
  },
  {
   "cell_type": "code",
   "execution_count": 7,
   "metadata": {},
   "outputs": [
    {
     "data": {
      "image/png": "[encoded data removed]",
      "text/plain": [
       "<Figure size 864x576 with 1 Axes>"
      ]
     },
     "metadata": {
      "needs_background": "light"
     },
     "output_type": "display_data"
    }
   ],
   "source": [
    "alpha = 0.10\n",
    "l = len(trace['USA'])\n",
    "low_bound = int(alpha/2*l)\n",
    "high_bound = int((1-(alpha/2))*l)\n",
    "\n",
    "fig, ax = plt.subplots(figsize = (12,8))\n",
    "for group, color in zip(['USA','Canada','Mexico'],['#95d0fc','#ff796c','#380282']):\n",
    "    # Estimate KDE\n",
    "    kde = stats.gaussian_kde(trace[group])\n",
    "    # plot complete kde curve as line\n",
    "    pos = np.linspace(trace[group].min(), trace[group].max(), 101)\n",
    "    plt.plot(pos, kde(pos), color = color, label = '{0} KDE'.format(group))\n",
    "    # Set shading bounds\n",
    "    low = np.sort(trace[group])[low_bound]\n",
    "    high = np.sort(trace[group])[high_bound]\n",
    "    # plot shaded kde\n",
    "    shade = np.linspace(low,high,101)\n",
    "    plt.fill_between(shade,kde(shade), alpha=0.3, color = color, label = \"{0} 90% HPD Score\".format(group))\n",
    "plt.legend()\n",
    "plt.title(\"A Biased Judge?\\nEstimated Score per Country\")\n",
    "plt.xlabel(\"Score\")\n",
    "plt.show()"
   ]
  },
  {
   "cell_type": "code",
   "execution_count": null,
   "metadata": {},
   "outputs": [],
   "source": []
  }
 ],
 "metadata": {
  "kernelspec": {
   "display_name": "learn-env",
   "language": "python",
   "name": "learn-env"
  },
  "language_info": {
   "codemirror_mode": {
    "name": "ipython",
    "version": 3
   },
   "file_extension": ".py",
   "mimetype": "text/x-python",
   "name": "python",
   "nbconvert_exporter": "python",
   "pygments_lexer": "ipython3",
   "version": "3.6.6"
  }
 },
 "nbformat": 4,
 "nbformat_minor": 2
}
